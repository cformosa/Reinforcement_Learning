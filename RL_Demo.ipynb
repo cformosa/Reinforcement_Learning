{
 "cells": [
  {
   "cell_type": "code",
   "execution_count": 1,
   "metadata": {
    "collapsed": false
   },
   "outputs": [
    {
     "name": "stderr",
     "output_type": "stream",
     "text": [
      "Using TensorFlow backend.\n"
     ]
    }
   ],
   "source": [
    "import numpy as np\n",
    "import gym\n",
    "\n",
    "from keras.models import Sequential\n",
    "from keras.layers import Dense, Activation, Flatten\n",
    "from keras.optimizers import Adam\n",
    "\n",
    "from rl.agents.dqn import DQNAgent\n",
    "from rl.policy import BoltzmannQPolicy\n",
    "from rl.memory import SequentialMemory"
   ]
  },
  {
   "cell_type": "code",
   "execution_count": 2,
   "metadata": {
    "collapsed": false
   },
   "outputs": [
    {
     "data": {
      "text/plain": [
       "['/job:localhost/replica:0/task:0/device:GPU:0']"
      ]
     },
     "execution_count": 2,
     "metadata": {},
     "output_type": "execute_result"
    }
   ],
   "source": [
    "from keras import backend as K\n",
    "K.tensorflow_backend._get_available_gpus()"
   ]
  },
  {
   "cell_type": "code",
   "execution_count": 3,
   "metadata": {
    "collapsed": true
   },
   "outputs": [],
   "source": [
    "ENV_NAME = 'CartPole-v0'\n",
    "\n",
    "\n",
    "# Get the environment and extract the number of actions.\n",
    "env = gym.make(ENV_NAME)\n",
    "np.random.seed(123)\n",
    "env.seed(123)\n",
    "nb_actions = env.action_space.n #number of possible moves to make (left or right)"
   ]
  },
  {
   "cell_type": "code",
   "execution_count": 9,
   "metadata": {
    "collapsed": false
   },
   "outputs": [
    {
     "data": {
      "text/plain": [
       "array([0.04975787, 0.04942262, 0.04825252, 0.00586875])"
      ]
     },
     "execution_count": 9,
     "metadata": {},
     "output_type": "execute_result"
    }
   ],
   "source": [
    "env.reset() #random starting point in the environment"
   ]
  },
  {
   "cell_type": "code",
   "execution_count": 4,
   "metadata": {
    "collapsed": false
   },
   "outputs": [
    {
     "name": "stdout",
     "output_type": "stream",
     "text": [
      "_________________________________________________________________\n",
      "Layer (type)                 Output Shape              Param #   \n",
      "=================================================================\n",
      "flatten_1 (Flatten)          (None, 4)                 0         \n",
      "_________________________________________________________________\n",
      "dense_1 (Dense)              (None, 16)                80        \n",
      "_________________________________________________________________\n",
      "activation_1 (Activation)    (None, 16)                0         \n",
      "_________________________________________________________________\n",
      "dense_2 (Dense)              (None, 16)                272       \n",
      "_________________________________________________________________\n",
      "activation_2 (Activation)    (None, 16)                0         \n",
      "_________________________________________________________________\n",
      "dense_3 (Dense)              (None, 16)                272       \n",
      "_________________________________________________________________\n",
      "activation_3 (Activation)    (None, 16)                0         \n",
      "_________________________________________________________________\n",
      "dense_4 (Dense)              (None, 2)                 34        \n",
      "_________________________________________________________________\n",
      "activation_4 (Activation)    (None, 2)                 0         \n",
      "=================================================================\n",
      "Total params: 658\n",
      "Trainable params: 658\n",
      "Non-trainable params: 0\n",
      "_________________________________________________________________\n",
      "None\n"
     ]
    }
   ],
   "source": [
    "# Next, we build a very simple model.\n",
    "model = Sequential()\n",
    "model.add(Flatten(input_shape=(1,) + env.observation_space.shape))\n",
    "model.add(Dense(16))\n",
    "model.add(Activation('relu'))\n",
    "model.add(Dense(16))\n",
    "model.add(Activation('relu'))\n",
    "model.add(Dense(16))\n",
    "model.add(Activation('relu'))\n",
    "model.add(Dense(nb_actions))\n",
    "model.add(Activation('linear'))\n",
    "print(model.summary())"
   ]
  },
  {
   "cell_type": "code",
   "execution_count": 5,
   "metadata": {
    "collapsed": true
   },
   "outputs": [],
   "source": [
    "# Finally, we configure and compile our agent. You can use every built-in Keras optimizer and\n",
    "# even the metrics!\n",
    "memory = SequentialMemory(limit=50000, window_length=1)\n",
    "policy = BoltzmannQPolicy() #this builds the policy on the q values then decides the action to take\n",
    "dqn = DQNAgent(model=model, nb_actions=nb_actions, memory=memory, nb_steps_warmup=10,\n",
    "               target_model_update=1e-2, policy=policy)\n",
    "dqn.compile(Adam(lr=1e-3), metrics=['mae'])"
   ]
  },
  {
   "cell_type": "code",
   "execution_count": 6,
   "metadata": {
    "collapsed": false
   },
   "outputs": [
    {
     "name": "stdout",
     "output_type": "stream",
     "text": [
      "Training for 5000 steps ...\n"
     ]
    },
    {
     "name": "stderr",
     "output_type": "stream",
     "text": [
      "C:\\Users\\cform_75xk7s9\\Anaconda3\\lib\\site-packages\\rl\\memory.py:39: UserWarning: Not enough entries to sample without replacement. Consider increasing your warm-up phase to avoid oversampling!\n",
      "  warnings.warn('Not enough entries to sample without replacement. Consider increasing your warm-up phase to avoid oversampling!')\n"
     ]
    },
    {
     "name": "stdout",
     "output_type": "stream",
     "text": [
      "   31/5000: episode: 1, duration: 2.477s, episode steps: 31, steps per second: 13, episode reward: 31.000, mean reward: 1.000 [1.000, 1.000], mean action: 0.419 [0.000, 1.000], mean observation: 0.013 [-1.185, 1.776], loss: 0.462308, mean_absolute_error: 0.519568, mean_q: 0.093220\n"
     ]
    },
    {
     "name": "stderr",
     "output_type": "stream",
     "text": [
      "C:\\Users\\cform_75xk7s9\\Anaconda3\\lib\\site-packages\\rl\\memory.py:39: UserWarning: Not enough entries to sample without replacement. Consider increasing your warm-up phase to avoid oversampling!\n",
      "  warnings.warn('Not enough entries to sample without replacement. Consider increasing your warm-up phase to avoid oversampling!')\n"
     ]
    },
    {
     "name": "stdout",
     "output_type": "stream",
     "text": [
      "   44/5000: episode: 2, duration: 0.222s, episode steps: 13, steps per second: 58, episode reward: 13.000, mean reward: 1.000 [1.000, 1.000], mean action: 0.692 [0.000, 1.000], mean observation: -0.069 [-1.867, 1.224], loss: 0.350593, mean_absolute_error: 0.542504, mean_q: 0.292280\n",
      "   64/5000: episode: 3, duration: 0.361s, episode steps: 20, steps per second: 55, episode reward: 20.000, mean reward: 1.000 [1.000, 1.000], mean action: 0.550 [0.000, 1.000], mean observation: -0.070 [-1.375, 0.833], loss: 0.232826, mean_absolute_error: 0.553178, mean_q: 0.483486\n",
      "   83/5000: episode: 4, duration: 0.315s, episode steps: 19, steps per second: 60, episode reward: 19.000, mean reward: 1.000 [1.000, 1.000], mean action: 0.421 [0.000, 1.000], mean observation: 0.074 [-0.817, 1.505], loss: 0.113281, mean_absolute_error: 0.603844, mean_q: 0.824784\n",
      "   98/5000: episode: 5, duration: 0.263s, episode steps: 15, steps per second: 57, episode reward: 15.000, mean reward: 1.000 [1.000, 1.000], mean action: 0.600 [0.000, 1.000], mean observation: -0.090 [-1.368, 0.825], loss: 0.055506, mean_absolute_error: 0.676532, mean_q: 1.144269\n",
      "  114/5000: episode: 6, duration: 0.287s, episode steps: 16, steps per second: 56, episode reward: 16.000, mean reward: 1.000 [1.000, 1.000], mean action: 0.750 [0.000, 1.000], mean observation: -0.069 [-2.711, 1.766], loss: 0.035738, mean_absolute_error: 0.702810, mean_q: 1.258376\n",
      "  131/5000: episode: 7, duration: 0.277s, episode steps: 17, steps per second: 61, episode reward: 17.000, mean reward: 1.000 [1.000, 1.000], mean action: 0.529 [0.000, 1.000], mean observation: 0.103 [-0.934, 1.483], loss: 0.037454, mean_absolute_error: 0.772392, mean_q: 1.430468\n",
      "  154/5000: episode: 8, duration: 0.383s, episode steps: 23, steps per second: 60, episode reward: 23.000, mean reward: 1.000 [1.000, 1.000], mean action: 0.304 [0.000, 1.000], mean observation: 0.051 [-1.762, 2.712], loss: 0.022275, mean_absolute_error: 0.822121, mean_q: 1.605189\n",
      "  180/5000: episode: 9, duration: 0.431s, episode steps: 26, steps per second: 60, episode reward: 26.000, mean reward: 1.000 [1.000, 1.000], mean action: 0.692 [0.000, 1.000], mean observation: -0.013 [-2.880, 1.992], loss: 0.032739, mean_absolute_error: 0.904212, mean_q: 1.800885\n",
      "  191/5000: episode: 10, duration: 0.184s, episode steps: 11, steps per second: 60, episode reward: 11.000, mean reward: 1.000 [1.000, 1.000], mean action: 0.273 [0.000, 1.000], mean observation: 0.105 [-1.003, 1.784], loss: 0.027499, mean_absolute_error: 0.960042, mean_q: 1.939628\n",
      "  203/5000: episode: 11, duration: 0.200s, episode steps: 12, steps per second: 60, episode reward: 12.000, mean reward: 1.000 [1.000, 1.000], mean action: 0.250 [0.000, 1.000], mean observation: 0.111 [-1.207, 1.988], loss: 0.041816, mean_absolute_error: 1.018247, mean_q: 2.052513\n",
      "  214/5000: episode: 12, duration: 0.180s, episode steps: 11, steps per second: 61, episode reward: 11.000, mean reward: 1.000 [1.000, 1.000], mean action: 0.727 [0.000, 1.000], mean observation: -0.102 [-1.836, 1.215], loss: 0.054806, mean_absolute_error: 1.059111, mean_q: 2.130012\n",
      "  231/5000: episode: 13, duration: 0.284s, episode steps: 17, steps per second: 60, episode reward: 17.000, mean reward: 1.000 [1.000, 1.000], mean action: 0.647 [0.000, 1.000], mean observation: -0.070 [-2.023, 1.221], loss: 0.053625, mean_absolute_error: 1.111476, mean_q: 2.206238\n",
      "  248/5000: episode: 14, duration: 0.296s, episode steps: 17, steps per second: 57, episode reward: 17.000, mean reward: 1.000 [1.000, 1.000], mean action: 0.412 [0.000, 1.000], mean observation: 0.086 [-0.967, 1.652], loss: 0.062058, mean_absolute_error: 1.177482, mean_q: 2.337995\n",
      "  261/5000: episode: 15, duration: 0.220s, episode steps: 13, steps per second: 59, episode reward: 13.000, mean reward: 1.000 [1.000, 1.000], mean action: 0.308 [0.000, 1.000], mean observation: 0.091 [-1.187, 2.000], loss: 0.057371, mean_absolute_error: 1.258906, mean_q: 2.506783\n",
      "  273/5000: episode: 16, duration: 0.216s, episode steps: 12, steps per second: 56, episode reward: 12.000, mean reward: 1.000 [1.000, 1.000], mean action: 0.750 [0.000, 1.000], mean observation: -0.109 [-2.153, 1.378], loss: 0.094278, mean_absolute_error: 1.321750, mean_q: 2.590244\n",
      "  296/5000: episode: 17, duration: 0.411s, episode steps: 23, steps per second: 56, episode reward: 23.000, mean reward: 1.000 [1.000, 1.000], mean action: 0.435 [0.000, 1.000], mean observation: 0.057 [-0.766, 1.313], loss: 0.081826, mean_absolute_error: 1.369876, mean_q: 2.650600\n",
      "  326/5000: episode: 18, duration: 0.505s, episode steps: 30, steps per second: 59, episode reward: 30.000, mean reward: 1.000 [1.000, 1.000], mean action: 0.367 [0.000, 1.000], mean observation: 0.005 [-1.563, 2.218], loss: 0.085384, mean_absolute_error: 1.501776, mean_q: 2.935431\n",
      "  342/5000: episode: 19, duration: 0.278s, episode steps: 16, steps per second: 58, episode reward: 16.000, mean reward: 1.000 [1.000, 1.000], mean action: 0.625 [0.000, 1.000], mean observation: -0.081 [-1.624, 0.824], loss: 0.095319, mean_absolute_error: 1.597618, mean_q: 3.092849\n",
      "  366/5000: episode: 20, duration: 0.408s, episode steps: 24, steps per second: 59, episode reward: 24.000, mean reward: 1.000 [1.000, 1.000], mean action: 0.458 [0.000, 1.000], mean observation: 0.094 [-0.604, 1.436], loss: 0.133034, mean_absolute_error: 1.676641, mean_q: 3.208106\n",
      "  389/5000: episode: 21, duration: 0.394s, episode steps: 23, steps per second: 58, episode reward: 23.000, mean reward: 1.000 [1.000, 1.000], mean action: 0.522 [0.000, 1.000], mean observation: -0.026 [-1.082, 0.798], loss: 0.113082, mean_absolute_error: 1.792369, mean_q: 3.472259\n",
      "  400/5000: episode: 22, duration: 0.179s, episode steps: 11, steps per second: 61, episode reward: 11.000, mean reward: 1.000 [1.000, 1.000], mean action: 0.818 [0.000, 1.000], mean observation: -0.118 [-2.230, 1.361], loss: 0.109930, mean_absolute_error: 1.837378, mean_q: 3.546641\n",
      "  415/5000: episode: 23, duration: 0.254s, episode steps: 15, steps per second: 59, episode reward: 15.000, mean reward: 1.000 [1.000, 1.000], mean action: 0.400 [0.000, 1.000], mean observation: 0.105 [-0.949, 1.714], loss: 0.151535, mean_absolute_error: 1.901626, mean_q: 3.641848\n",
      "  427/5000: episode: 24, duration: 0.214s, episode steps: 12, steps per second: 56, episode reward: 12.000, mean reward: 1.000 [1.000, 1.000], mean action: 0.167 [0.000, 1.000], mean observation: 0.135 [-1.555, 2.601], loss: 0.181232, mean_absolute_error: 1.955139, mean_q: 3.691632\n",
      "  439/5000: episode: 25, duration: 0.237s, episode steps: 12, steps per second: 51, episode reward: 12.000, mean reward: 1.000 [1.000, 1.000], mean action: 0.750 [0.000, 1.000], mean observation: -0.125 [-2.249, 1.358], loss: 0.174220, mean_absolute_error: 2.021482, mean_q: 3.915977\n",
      "  451/5000: episode: 26, duration: 0.215s, episode steps: 12, steps per second: 56, episode reward: 12.000, mean reward: 1.000 [1.000, 1.000], mean action: 0.417 [0.000, 1.000], mean observation: 0.098 [-0.773, 1.402], loss: 0.195777, mean_absolute_error: 2.060789, mean_q: 3.938557\n",
      "  466/5000: episode: 27, duration: 0.288s, episode steps: 15, steps per second: 52, episode reward: 15.000, mean reward: 1.000 [1.000, 1.000], mean action: 0.333 [0.000, 1.000], mean observation: 0.074 [-0.997, 1.708], loss: 0.190615, mean_absolute_error: 2.140640, mean_q: 4.024398\n",
      "  500/5000: episode: 28, duration: 0.570s, episode steps: 34, steps per second: 60, episode reward: 34.000, mean reward: 1.000 [1.000, 1.000], mean action: 0.471 [0.000, 1.000], mean observation: 0.078 [-0.477, 1.518], loss: 0.177777, mean_absolute_error: 2.227111, mean_q: 4.246006\n",
      "  543/5000: episode: 29, duration: 0.752s, episode steps: 43, steps per second: 57, episode reward: 43.000, mean reward: 1.000 [1.000, 1.000], mean action: 0.512 [0.000, 1.000], mean observation: -0.058 [-1.319, 1.056], loss: 0.219426, mean_absolute_error: 2.385681, mean_q: 4.497018\n",
      "  554/5000: episode: 30, duration: 0.249s, episode steps: 11, steps per second: 44, episode reward: 11.000, mean reward: 1.000 [1.000, 1.000], mean action: 0.182 [0.000, 1.000], mean observation: 0.125 [-1.329, 2.261], loss: 0.185837, mean_absolute_error: 2.424449, mean_q: 4.562518\n",
      "  585/5000: episode: 31, duration: 0.577s, episode steps: 31, steps per second: 54, episode reward: 31.000, mean reward: 1.000 [1.000, 1.000], mean action: 0.548 [0.000, 1.000], mean observation: 0.103 [-0.815, 1.224], loss: 0.229599, mean_absolute_error: 2.502143, mean_q: 4.694617\n",
      "  608/5000: episode: 32, duration: 0.433s, episode steps: 23, steps per second: 53, episode reward: 23.000, mean reward: 1.000 [1.000, 1.000], mean action: 0.609 [0.000, 1.000], mean observation: -0.060 [-1.751, 1.127], loss: 0.209404, mean_absolute_error: 2.619789, mean_q: 4.961290\n",
      "  635/5000: episode: 33, duration: 0.570s, episode steps: 27, steps per second: 47, episode reward: 27.000, mean reward: 1.000 [1.000, 1.000], mean action: 0.519 [0.000, 1.000], mean observation: 0.077 [-0.955, 1.507], loss: 0.167112, mean_absolute_error: 2.729960, mean_q: 5.247576\n",
      "  657/5000: episode: 34, duration: 0.449s, episode steps: 22, steps per second: 49, episode reward: 22.000, mean reward: 1.000 [1.000, 1.000], mean action: 0.455 [0.000, 1.000], mean observation: 0.081 [-0.551, 1.265], loss: 0.284674, mean_absolute_error: 2.831400, mean_q: 5.376546\n",
      "  677/5000: episode: 35, duration: 0.446s, episode steps: 20, steps per second: 45, episode reward: 20.000, mean reward: 1.000 [1.000, 1.000], mean action: 0.400 [0.000, 1.000], mean observation: 0.093 [-0.825, 1.722], loss: 0.355265, mean_absolute_error: 2.894654, mean_q: 5.459580\n",
      "  695/5000: episode: 36, duration: 0.365s, episode steps: 18, steps per second: 49, episode reward: 18.000, mean reward: 1.000 [1.000, 1.000], mean action: 0.444 [0.000, 1.000], mean observation: 0.066 [-1.001, 1.537], loss: 0.400784, mean_absolute_error: 2.943687, mean_q: 5.514759\n",
      "  709/5000: episode: 37, duration: 0.320s, episode steps: 14, steps per second: 44, episode reward: 14.000, mean reward: 1.000 [1.000, 1.000], mean action: 0.429 [0.000, 1.000], mean observation: 0.094 [-0.958, 1.421], loss: 0.345125, mean_absolute_error: 3.025965, mean_q: 5.718972\n",
      "  752/5000: episode: 38, duration: 0.893s, episode steps: 43, steps per second: 48, episode reward: 43.000, mean reward: 1.000 [1.000, 1.000], mean action: 0.419 [0.000, 1.000], mean observation: 0.017 [-1.533, 2.211], loss: 0.280931, mean_absolute_error: 3.143116, mean_q: 6.037551\n",
      "  795/5000: episode: 39, duration: 0.762s, episode steps: 43, steps per second: 56, episode reward: 43.000, mean reward: 1.000 [1.000, 1.000], mean action: 0.465 [0.000, 1.000], mean observation: -0.147 [-0.925, 0.388], loss: 0.383339, mean_absolute_error: 3.335172, mean_q: 6.381013\n",
      "  819/5000: episode: 40, duration: 0.501s, episode steps: 24, steps per second: 48, episode reward: 24.000, mean reward: 1.000 [1.000, 1.000], mean action: 0.667 [0.000, 1.000], mean observation: -0.063 [-2.594, 1.558], loss: 0.298045, mean_absolute_error: 3.446718, mean_q: 6.663345\n",
      "  830/5000: episode: 41, duration: 0.197s, episode steps: 11, steps per second: 56, episode reward: 11.000, mean reward: 1.000 [1.000, 1.000], mean action: 0.182 [0.000, 1.000], mean observation: 0.144 [-1.373, 2.363], loss: 0.350276, mean_absolute_error: 3.464824, mean_q: 6.666313\n",
      "  861/5000: episode: 42, duration: 0.584s, episode steps: 31, steps per second: 53, episode reward: 31.000, mean reward: 1.000 [1.000, 1.000], mean action: 0.484 [0.000, 1.000], mean observation: -0.126 [-1.063, 0.538], loss: 0.335451, mean_absolute_error: 3.591383, mean_q: 6.961723\n",
      "  893/5000: episode: 43, duration: 0.581s, episode steps: 32, steps per second: 55, episode reward: 32.000, mean reward: 1.000 [1.000, 1.000], mean action: 0.531 [0.000, 1.000], mean observation: 0.148 [-0.354, 1.015], loss: 0.382703, mean_absolute_error: 3.710621, mean_q: 7.254198\n",
      "  955/5000: episode: 44, duration: 1.217s, episode steps: 62, steps per second: 51, episode reward: 62.000, mean reward: 1.000 [1.000, 1.000], mean action: 0.435 [0.000, 1.000], mean observation: -0.208 [-1.441, 1.002], loss: 0.474225, mean_absolute_error: 3.932720, mean_q: 7.611065\n",
      "  977/5000: episode: 45, duration: 0.427s, episode steps: 22, steps per second: 52, episode reward: 22.000, mean reward: 1.000 [1.000, 1.000], mean action: 0.364 [0.000, 1.000], mean observation: 0.096 [-1.146, 2.165], loss: 0.315462, mean_absolute_error: 4.086256, mean_q: 8.028661\n",
      " 1000/5000: episode: 46, duration: 0.435s, episode steps: 23, steps per second: 53, episode reward: 23.000, mean reward: 1.000 [1.000, 1.000], mean action: 0.522 [0.000, 1.000], mean observation: -0.033 [-0.968, 0.627], loss: 0.421965, mean_absolute_error: 4.234310, mean_q: 8.276861\n",
      " 1029/5000: episode: 47, duration: 0.632s, episode steps: 29, steps per second: 46, episode reward: 29.000, mean reward: 1.000 [1.000, 1.000], mean action: 0.448 [0.000, 1.000], mean observation: 0.096 [-0.765, 1.713], loss: 0.540966, mean_absolute_error: 4.317872, mean_q: 8.482301\n",
      " 1058/5000: episode: 48, duration: 0.582s, episode steps: 29, steps per second: 50, episode reward: 29.000, mean reward: 1.000 [1.000, 1.000], mean action: 0.483 [0.000, 1.000], mean observation: -0.061 [-1.160, 0.747], loss: 0.523623, mean_absolute_error: 4.405852, mean_q: 8.635771\n",
      " 1097/5000: episode: 49, duration: 0.813s, episode steps: 39, steps per second: 48, episode reward: 39.000, mean reward: 1.000 [1.000, 1.000], mean action: 0.462 [0.000, 1.000], mean observation: -0.075 [-1.084, 0.647], loss: 0.598342, mean_absolute_error: 4.606534, mean_q: 9.033618\n",
      " 1169/5000: episode: 50, duration: 1.386s, episode steps: 72, steps per second: 52, episode reward: 72.000, mean reward: 1.000 [1.000, 1.000], mean action: 0.472 [0.000, 1.000], mean observation: -0.251 [-1.318, 0.747], loss: 0.463752, mean_absolute_error: 4.809375, mean_q: 9.550393\n",
      " 1202/5000: episode: 51, duration: 0.663s, episode steps: 33, steps per second: 50, episode reward: 33.000, mean reward: 1.000 [1.000, 1.000], mean action: 0.485 [0.000, 1.000], mean observation: -0.105 [-0.996, 0.621], loss: 0.631099, mean_absolute_error: 5.076866, mean_q: 10.057601\n",
      " 1278/5000: episode: 52, duration: 1.482s, episode steps: 76, steps per second: 51, episode reward: 76.000, mean reward: 1.000 [1.000, 1.000], mean action: 0.526 [0.000, 1.000], mean observation: -0.010 [-1.850, 0.825], loss: 0.761557, mean_absolute_error: 5.278569, mean_q: 10.401401\n",
      " 1346/5000: episode: 53, duration: 1.482s, episode steps: 68, steps per second: 46, episode reward: 68.000, mean reward: 1.000 [1.000, 1.000], mean action: 0.471 [0.000, 1.000], mean observation: -0.231 [-1.145, 0.733], loss: 0.590214, mean_absolute_error: 5.612798, mean_q: 11.169064\n",
      " 1504/5000: episode: 54, duration: 3.178s, episode steps: 158, steps per second: 50, episode reward: 158.000, mean reward: 1.000 [1.000, 1.000], mean action: 0.500 [0.000, 1.000], mean observation: 0.107 [-0.979, 1.301], loss: 0.605958, mean_absolute_error: 6.108650, mean_q: 12.264563\n",
      " 1608/5000: episode: 55, duration: 2.149s, episode steps: 104, steps per second: 48, episode reward: 104.000, mean reward: 1.000 [1.000, 1.000], mean action: 0.452 [0.000, 1.000], mean observation: -0.263 [-1.983, 0.820], loss: 0.581455, mean_absolute_error: 6.735405, mean_q: 13.587235\n",
      " 1689/5000: episode: 56, duration: 1.693s, episode steps: 81, steps per second: 48, episode reward: 81.000, mean reward: 1.000 [1.000, 1.000], mean action: 0.457 [0.000, 1.000], mean observation: -0.345 [-1.670, 0.595], loss: 0.720035, mean_absolute_error: 7.091414, mean_q: 14.345134\n",
      " 1869/5000: episode: 57, duration: 3.401s, episode steps: 180, steps per second: 53, episode reward: 180.000, mean reward: 1.000 [1.000, 1.000], mean action: 0.483 [0.000, 1.000], mean observation: -0.164 [-1.664, 1.005], loss: 0.736523, mean_absolute_error: 7.760110, mean_q: 15.700295\n",
      " 2008/5000: episode: 58, duration: 2.700s, episode steps: 139, steps per second: 51, episode reward: 139.000, mean reward: 1.000 [1.000, 1.000], mean action: 0.468 [0.000, 1.000], mean observation: -0.212 [-1.611, 0.750], loss: 0.922345, mean_absolute_error: 8.539528, mean_q: 17.274155\n",
      " 2195/5000: episode: 59, duration: 3.509s, episode steps: 187, steps per second: 53, episode reward: 187.000, mean reward: 1.000 [1.000, 1.000], mean action: 0.476 [0.000, 1.000], mean observation: -0.224 [-1.854, 1.119], loss: 0.994981, mean_absolute_error: 9.330410, mean_q: 18.918303\n",
      " 2336/5000: episode: 60, duration: 2.756s, episode steps: 141, steps per second: 51, episode reward: 141.000, mean reward: 1.000 [1.000, 1.000], mean action: 0.475 [0.000, 1.000], mean observation: -0.250 [-1.315, 0.815], loss: 1.091886, mean_absolute_error: 10.134203, mean_q: 20.579302\n",
      " 2509/5000: episode: 61, duration: 3.176s, episode steps: 173, steps per second: 54, episode reward: 173.000, mean reward: 1.000 [1.000, 1.000], mean action: 0.468 [0.000, 1.000], mean observation: -0.330 [-2.204, 0.764], loss: 0.878059, mean_absolute_error: 10.929193, mean_q: 22.260136\n",
      " 2639/5000: episode: 62, duration: 2.447s, episode steps: 130, steps per second: 53, episode reward: 130.000, mean reward: 1.000 [1.000, 1.000], mean action: 0.462 [0.000, 1.000], mean observation: -0.358 [-1.809, 0.734], loss: 1.298997, mean_absolute_error: 11.673270, mean_q: 23.700741\n",
      " 2785/5000: episode: 63, duration: 2.650s, episode steps: 146, steps per second: 55, episode reward: 146.000, mean reward: 1.000 [1.000, 1.000], mean action: 0.459 [0.000, 1.000], mean observation: -0.410 [-2.301, 0.598], loss: 1.168755, mean_absolute_error: 12.364917, mean_q: 25.190620\n",
      " 2942/5000: episode: 64, duration: 3.340s, episode steps: 157, steps per second: 47, episode reward: 157.000, mean reward: 1.000 [1.000, 1.000], mean action: 0.465 [0.000, 1.000], mean observation: -0.391 [-2.400, 0.886], loss: 1.326725, mean_absolute_error: 13.083296, mean_q: 26.602982\n",
      " 3071/5000: episode: 65, duration: 2.522s, episode steps: 129, steps per second: 51, episode reward: 129.000, mean reward: 1.000 [1.000, 1.000], mean action: 0.457 [0.000, 1.000], mean observation: -0.421 [-2.133, 0.830], loss: 1.412411, mean_absolute_error: 13.781065, mean_q: 28.001835\n",
      " 3220/5000: episode: 66, duration: 2.962s, episode steps: 149, steps per second: 50, episode reward: 149.000, mean reward: 1.000 [1.000, 1.000], mean action: 0.470 [0.000, 1.000], mean observation: -0.408 [-2.402, 0.692], loss: 1.491145, mean_absolute_error: 14.269066, mean_q: 29.052708\n",
      " 3362/5000: episode: 67, duration: 2.694s, episode steps: 142, steps per second: 53, episode reward: 142.000, mean reward: 1.000 [1.000, 1.000], mean action: 0.458 [0.000, 1.000], mean observation: -0.425 [-2.421, 0.889], loss: 2.288426, mean_absolute_error: 15.054918, mean_q: 30.476147\n",
      " 3536/5000: episode: 68, duration: 3.583s, episode steps: 174, steps per second: 49, episode reward: 174.000, mean reward: 1.000 [1.000, 1.000], mean action: 0.466 [0.000, 1.000], mean observation: -0.366 [-2.430, 0.618], loss: 1.575533, mean_absolute_error: 15.660778, mean_q: 31.870522\n",
      " 3684/5000: episode: 69, duration: 2.711s, episode steps: 148, steps per second: 55, episode reward: 148.000, mean reward: 1.000 [1.000, 1.000], mean action: 0.466 [0.000, 1.000], mean observation: -0.421 [-2.416, 0.875], loss: 1.493211, mean_absolute_error: 16.535183, mean_q: 33.583973\n",
      " 3867/5000: episode: 70, duration: 3.590s, episode steps: 183, steps per second: 51, episode reward: 183.000, mean reward: 1.000 [1.000, 1.000], mean action: 0.464 [0.000, 1.000], mean observation: -0.348 [-2.430, 0.875], loss: 1.823235, mean_absolute_error: 17.154535, mean_q: 34.876381\n",
      " 4067/5000: episode: 71, duration: 3.921s, episode steps: 200, steps per second: 51, episode reward: 200.000, mean reward: 1.000 [1.000, 1.000], mean action: 0.475 [0.000, 1.000], mean observation: -0.297 [-2.307, 0.702], loss: 1.637014, mean_absolute_error: 18.017296, mean_q: 36.648247\n",
      " 4246/5000: episode: 72, duration: 3.419s, episode steps: 179, steps per second: 52, episode reward: 179.000, mean reward: 1.000 [1.000, 1.000], mean action: 0.464 [0.000, 1.000], mean observation: -0.336 [-2.415, 0.751], loss: 2.339452, mean_absolute_error: 18.846323, mean_q: 38.242344\n",
      " 4398/5000: episode: 73, duration: 3.157s, episode steps: 152, steps per second: 48, episode reward: 152.000, mean reward: 1.000 [1.000, 1.000], mean action: 0.467 [0.000, 1.000], mean observation: -0.406 [-2.425, 0.775], loss: 2.540167, mean_absolute_error: 19.402109, mean_q: 39.236683\n",
      " 4598/5000: episode: 74, duration: 3.814s, episode steps: 200, steps per second: 52, episode reward: 200.000, mean reward: 1.000 [1.000, 1.000], mean action: 0.485 [0.000, 1.000], mean observation: -0.111 [-1.267, 0.688], loss: 2.006329, mean_absolute_error: 20.172693, mean_q: 40.916763\n",
      " 4784/5000: episode: 75, duration: 3.581s, episode steps: 186, steps per second: 52, episode reward: 186.000, mean reward: 1.000 [1.000, 1.000], mean action: 0.468 [0.000, 1.000], mean observation: -0.340 [-2.427, 0.673], loss: 2.198620, mean_absolute_error: 21.116465, mean_q: 42.747688\n",
      " 4984/5000: episode: 76, duration: 3.895s, episode steps: 200, steps per second: 51, episode reward: 200.000, mean reward: 1.000 [1.000, 1.000], mean action: 0.490 [0.000, 1.000], mean observation: -0.068 [-0.912, 0.756], loss: 2.883711, mean_absolute_error: 21.730867, mean_q: 43.874767\n",
      "done, took 98.666 seconds\n"
     ]
    },
    {
     "data": {
      "text/plain": [
       "<keras.callbacks.History at 0x1b53c9ce198>"
      ]
     },
     "execution_count": 6,
     "metadata": {},
     "output_type": "execute_result"
    }
   ],
   "source": [
    "# Okay, now it's time to learn something! We visualize the training here for show, but this\n",
    "# slows down training quite a lot. You can always safely abort the training prematurely using\n",
    "# Ctrl + C.\n",
    "dqn.fit(env, nb_steps=5000, visualize=True, verbose=2)"
   ]
  },
  {
   "cell_type": "code",
   "execution_count": 7,
   "metadata": {
    "collapsed": false
   },
   "outputs": [
    {
     "name": "stdout",
     "output_type": "stream",
     "text": [
      "Testing for 5 episodes ...\n",
      "Episode 1: reward: 200.000, steps: 200\n",
      "Episode 2: reward: 198.000, steps: 198\n",
      "Episode 3: reward: 185.000, steps: 185\n",
      "Episode 4: reward: 200.000, steps: 200\n",
      "Episode 5: reward: 177.000, steps: 177\n"
     ]
    },
    {
     "data": {
      "text/plain": [
       "<keras.callbacks.History at 0x1b599331940>"
      ]
     },
     "execution_count": 7,
     "metadata": {},
     "output_type": "execute_result"
    }
   ],
   "source": [
    "# Finally, evaluate our algorithm for 5 episodes.\n",
    "dqn.test(env, nb_episodes=5, visualize=True)"
   ]
  }
 ],
 "metadata": {
  "anaconda-cloud": {},
  "kernelspec": {
   "display_name": "Python [conda env:Anaconda3]",
   "language": "python",
   "name": "conda-env-Anaconda3-py"
  },
  "language_info": {
   "codemirror_mode": {
    "name": "ipython",
    "version": 3
   },
   "file_extension": ".py",
   "mimetype": "text/x-python",
   "name": "python",
   "nbconvert_exporter": "python",
   "pygments_lexer": "ipython3",
   "version": "3.5.2"
  }
 },
 "nbformat": 4,
 "nbformat_minor": 1
}
